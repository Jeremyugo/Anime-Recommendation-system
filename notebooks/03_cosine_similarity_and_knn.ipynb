{
 "cells": [
  {
   "cell_type": "markdown",
   "metadata": {},
   "source": [
    "## Anime recommender using Cosine similarity\n",
    "\n",
    "In this notebook, an user-item based recommender is built ratings each user assigned an anime.\n",
    "\n",
    "In addition to calculating how similar (close) to items are like jaccard does, cosine also considers the direction of items by representing them as vectors."
   ]
  },
  {
   "cell_type": "code",
   "execution_count": null,
   "metadata": {},
   "outputs": [],
   "source": [
    "# importing packages\n",
    "import pandas as pd\n",
    "import numpy as np\n",
    "from sklearn.metrics.pairwise import cosine_similarity\n",
    "from scipy.sparse import csr_matrix\n",
    "from sklearn.neighbors import NearestNeighbors"
   ]
  },
  {
   "cell_type": "markdown",
   "metadata": {},
   "source": [
    "## KNN Item based recommender"
   ]
  },
  {
   "cell_type": "code",
   "execution_count": null,
   "metadata": {},
   "outputs": [],
   "source": [
    "# import data\n",
    "df2 = pd.read_csv('../data/processed/cosine_data.csv')"
   ]
  },
  {
   "cell_type": "code",
   "execution_count": null,
   "metadata": {},
   "outputs": [],
   "source": [
    "# pivot table of uis dataframe\n",
    "uis_table = df2.pivot_table(index='User_ID', columns='name', values='Feedback')\n",
    "\n",
    "# average rating by row, i.e each movie\n",
    "avg_ratings = uis_table.mean(axis=1)\n",
    "\n",
    "# centering ratings around 0\n",
    "uis_pivot = uis_table.sub(avg_ratings, axis=0)"
   ]
  },
  {
   "cell_type": "code",
   "execution_count": null,
   "metadata": {},
   "outputs": [],
   "source": [
    "uis_pivot.fillna(0, inplace=True)"
   ]
  },
  {
   "cell_type": "code",
   "execution_count": null,
   "metadata": {},
   "outputs": [],
   "source": [
    "# Transpose data to get anime_pivot\n",
    "anime_pivot = uis_pivot.T\n",
    "\n",
    "anime_pivot.head()"
   ]
  },
  {
   "cell_type": "code",
   "execution_count": null,
   "metadata": {},
   "outputs": [],
   "source": [
    "# calculating Anime cosine similarity based on user ratings\n",
    "similarities = cosine_similarity(anime_pivot)\n",
    "\n",
    "# dataframe of cosine similarity\n",
    "cosine_similarity_df = pd.DataFrame(\n",
    "    similarities, index=anime_pivot.index, columns=anime_pivot.index\n",
    ")"
   ]
  },
  {
   "cell_type": "code",
   "execution_count": null,
   "metadata": {},
   "outputs": [],
   "source": [
    "# function for cosine recommendation\n",
    "def get_cosine_recommendations(name):\n",
    "    return cosine_similarity_df[name].sort_values(ascending=False)[1:11].reset_index().rename({name: \"Cosine similarity\", \"name\":\"Anime\"}, axis=1)"
   ]
  },
  {
   "cell_type": "code",
   "execution_count": null,
   "metadata": {},
   "outputs": [],
   "source": [
    "get_cosine_recommendations('Naruto')"
   ]
  },
  {
   "cell_type": "markdown",
   "metadata": {},
   "source": [
    "## K-nearest neighbors\n",
    "\n",
    "KNN is another technique used in creating recommendation systems"
   ]
  },
  {
   "cell_type": "code",
   "execution_count": null,
   "metadata": {},
   "outputs": [],
   "source": [
    "# creating data pivot\n",
    "data_pivot = df2.pivot_table(index=\"name\",columns=\"User_ID\",values=\"Feedback\").fillna(0)"
   ]
  },
  {
   "cell_type": "code",
   "execution_count": null,
   "metadata": {},
   "outputs": [],
   "source": [
    "# compressing our sparse matrix\n",
    "data_matrix = csr_matrix(data_pivot.values)"
   ]
  },
  {
   "cell_type": "code",
   "execution_count": null,
   "metadata": {},
   "outputs": [],
   "source": [
    "# fitting the KNN algorithm on the sparse matrix using cosine similarity as the metric for calculating the distances\n",
    "model_knn = NearestNeighbors(metric = \"cosine\", algorithm = \"brute\")\n",
    "model_knn.fit(data_matrix)"
   ]
  },
  {
   "cell_type": "code",
   "execution_count": null,
   "metadata": {},
   "outputs": [],
   "source": [
    "# function for retrieving knn recommendations\n",
    "def get_knn_recommendation(name):\n",
    "    _, indices = model_knn.kneighbors(data_pivot.loc[name,:].values.reshape(1, -1), n_neighbors = 11)\n",
    "    rec_list = data_pivot.iloc[indices[0]].index[1:].tolist()\n",
    "    rec_df = df2[np.isin(df2['name'], rec_list)]\n",
    "    rec_series = rec_df.groupby('name')['Feedback'].mean().sort_values(ascending=False)\n",
    "    rec = pd.DataFrame(rec_series).reset_index().rename({'name': 'Anime', 'Feedback': 'Average Feedback'}, axis=1)\n",
    "    return rec"
   ]
  },
  {
   "cell_type": "code",
   "execution_count": null,
   "metadata": {},
   "outputs": [],
   "source": [
    "get_knn_recommendation('Naruto')"
   ]
  }
 ],
 "metadata": {
  "kernelspec": {
   "display_name": "steam",
   "language": "python",
   "name": "python3"
  },
  "language_info": {
   "codemirror_mode": {
    "name": "ipython",
    "version": 3
   },
   "file_extension": ".py",
   "mimetype": "text/x-python",
   "name": "python",
   "nbconvert_exporter": "python",
   "pygments_lexer": "ipython3",
   "version": "3.11.5"
  }
 },
 "nbformat": 4,
 "nbformat_minor": 2
}
