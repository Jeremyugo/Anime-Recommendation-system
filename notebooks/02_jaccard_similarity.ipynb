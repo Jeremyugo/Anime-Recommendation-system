{
 "cells": [
  {
   "cell_type": "markdown",
   "metadata": {},
   "source": [
    "## Anime recommender using Jaccard similarity\n",
    "\n",
    "Recommendation systems are engines that use data to predict / narrow down what a user would like based on user history, item attributes or context features. There are generally 3 types of recommenders:\n",
    "- Item based\n",
    "- User based\n",
    "- Hybrid\n",
    "\n",
    "In this notebook, an item based recommender is built using items attributes by calculating the jaccard similarity between items."
   ]
  },
  {
   "cell_type": "code",
   "execution_count": null,
   "metadata": {},
   "outputs": [],
   "source": [
    "# importing packages\n",
    "import pandas as pd\n",
    "import numpy as np\n",
    "import matplotlib.pyplot as plt\n",
    "import seaborn as sns\n",
    "from scipy.spatial.distance import pdist, squareform"
   ]
  },
  {
   "cell_type": "code",
   "execution_count": null,
   "metadata": {},
   "outputs": [],
   "source": [
    "# loading data\n",
    "df = pd.read_csv(\"../data/processed/clean_data.csv\")\n",
    "df.head(2)"
   ]
  },
  {
   "cell_type": "code",
   "execution_count": null,
   "metadata": {},
   "outputs": [],
   "source": [
    "plt.figure(figsize=(12,6))\n",
    "sns.countplot(x=df['type'])\n",
    "plt.title(\"Count of Anime Type\", fontsize=15, weight='bold')\n",
    "plt.show()"
   ]
  },
  {
   "cell_type": "code",
   "execution_count": null,
   "metadata": {},
   "outputs": [],
   "source": [
    "plt.figure(figsize=(12,6))\n",
    "sns.barplot(data=df, x='type', y='Feedback', estimator='mean', errorbar='sd')\n",
    "plt.title(\"Average Feedback by Anime Type\", fontsize=15, weight='bold')\n",
    "plt.show()"
   ]
  },
  {
   "cell_type": "code",
   "execution_count": null,
   "metadata": {},
   "outputs": [],
   "source": [
    "# function to clean the genre column\n",
    "\n",
    "def clean_genre(genre):\n",
    "    genre_list = genre.split(',')\n",
    "    genre = \",\".join([x.strip(' ') for x in genre_list])\n",
    "    return genre"
   ]
  },
  {
   "cell_type": "code",
   "execution_count": null,
   "metadata": {},
   "outputs": [],
   "source": [
    "df['genre'] = df['genre'].apply(clean_genre)"
   ]
  },
  {
   "cell_type": "markdown",
   "metadata": {},
   "source": [
    "## Jaccard Similarity"
   ]
  },
  {
   "cell_type": "code",
   "execution_count": null,
   "metadata": {},
   "outputs": [],
   "source": [
    "# since Feedback will not be used as a feature, we only need 1 entry of each movie since each movie has similar genres across its entries\n",
    "df_subset = df.drop_duplicates(subset=\"name\")\n",
    "df_subset.head(2)"
   ]
  },
  {
   "cell_type": "code",
   "execution_count": null,
   "metadata": {},
   "outputs": [],
   "source": [
    "# creating dummie variables\n",
    "df_dummies = df_subset['genre'].str.get_dummies(sep=',')\n",
    "df_dummies = pd.concat([df_dummies, df_subset['Audience'].str.get_dummies(), df_subset['type'].str.get_dummies()], axis=1)\n",
    "df_dummies.head()"
   ]
  },
  {
   "cell_type": "markdown",
   "metadata": {},
   "source": [
    "#### Finding the distances between all animes using their genre"
   ]
  },
  {
   "cell_type": "code",
   "execution_count": null,
   "metadata": {},
   "outputs": [],
   "source": [
    "# calculating the jaccard distance between all genres\n",
    "jaccard_distance = pdist(df_dummies.values, metric=\"jaccard\")\n",
    "\n",
    "# converting it to squareform\n",
    "squared_jaccard_distance = squareform(jaccard_distance)"
   ]
  },
  {
   "cell_type": "code",
   "execution_count": null,
   "metadata": {},
   "outputs": [],
   "source": [
    "jaccard_array = 1 - squared_jaccard_distance\n",
    "\n",
    "# converting to dataframe\n",
    "distance_df = pd.DataFrame(jaccard_array, index=df_subset['name'], columns=df_subset['name'])"
   ]
  },
  {
   "cell_type": "code",
   "execution_count": null,
   "metadata": {},
   "outputs": [],
   "source": [
    "distance_df.head()"
   ]
  },
  {
   "cell_type": "code",
   "execution_count": null,
   "metadata": {},
   "outputs": [],
   "source": [
    "def get_jaccard_recommendation(name):\n",
    "    temp_df = distance_df[[name]].reset_index().rename({'name':'Anime', name:'jaccard_similarity'}, axis=1)\n",
    "    temp_df = temp_df.sort_values(by='jaccard_similarity', ascending=False)[1:11]\n",
    "    return temp_df.reset_index(drop=True)"
   ]
  },
  {
   "cell_type": "code",
   "execution_count": null,
   "metadata": {},
   "outputs": [],
   "source": [
    "get_jaccard_recommendation('Naruto')"
   ]
  }
 ],
 "metadata": {
  "kernelspec": {
   "display_name": "steam",
   "language": "python",
   "name": "python3"
  },
  "language_info": {
   "codemirror_mode": {
    "name": "ipython",
    "version": 3
   },
   "file_extension": ".py",
   "mimetype": "text/x-python",
   "name": "python",
   "nbconvert_exporter": "python",
   "pygments_lexer": "ipython3",
   "version": "3.11.5"
  }
 },
 "nbformat": 4,
 "nbformat_minor": 2
}
