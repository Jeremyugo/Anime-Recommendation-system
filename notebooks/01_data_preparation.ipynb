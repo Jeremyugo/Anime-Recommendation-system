{
 "cells": [
  {
   "cell_type": "markdown",
   "metadata": {},
   "source": [
    "## Data preparation\n",
    "\n",
    "The two dataframes that will be used in builing the recommendation systems will be processed here.\n",
    "\n",
    "### DataFrame 1\n",
    "\n",
    "This dataframe will be used to build a Tensorflow Multi-task and a Jaccard similarity item based recommender. The `User_ID` will be dropped because i want to build a simple recommender that any one can use, even if they aren't part of the original dataset."
   ]
  },
  {
   "cell_type": "code",
   "execution_count": null,
   "metadata": {},
   "outputs": [],
   "source": [
    "# importing packages\n",
    "import pandas as pd\n",
    "import numpy as np\n",
    "import re"
   ]
  },
  {
   "cell_type": "code",
   "execution_count": null,
   "metadata": {},
   "outputs": [],
   "source": [
    "# import data\n",
    "history = pd.read_csv(\"../data/processed/anime_history.dat\", sep=\"\\t\")\n",
    "info = pd.read_csv(\"../data/processed/anime_info.dat\", sep=\"\\t\")\n",
    "ratings = pd.read_csv(\"../data/processed/anime_ratings.dat\", sep=\"\\t\")"
   ]
  },
  {
   "cell_type": "code",
   "execution_count": null,
   "metadata": {},
   "outputs": [],
   "source": [
    "history['Feedback'].value_counts()"
   ]
  },
  {
   "cell_type": "markdown",
   "metadata": {},
   "source": [
    "The feedback feature only has 1 value so it will be dropped"
   ]
  },
  {
   "cell_type": "code",
   "execution_count": null,
   "metadata": {},
   "outputs": [],
   "source": [
    "# dropping feedback\n",
    "history.drop('Feedback', axis=1, inplace=True)"
   ]
  },
  {
   "cell_type": "code",
   "execution_count": null,
   "metadata": {},
   "outputs": [],
   "source": [
    "# merging purchases and items\n",
    "df1 = pd.merge(left=info, right=ratings, left_on='anime_ids', right_on='Anime_ID', how='right')\n",
    "df1.head(2)"
   ]
  },
  {
   "cell_type": "code",
   "execution_count": null,
   "metadata": {},
   "outputs": [],
   "source": [
    "# merging df1 and plays\n",
    "df = pd.merge(left=df1, right=history, on=['User_ID', 'Anime_ID'], how='left')\n",
    "df.head(2)"
   ]
  },
  {
   "cell_type": "code",
   "execution_count": null,
   "metadata": {},
   "outputs": [],
   "source": [
    "# dropping irrelevant columns\n",
    "df.drop(['episodes', 'anime_ids', 'Anime_ID', 'User_ID', 'rating'], axis=1, inplace=True)"
   ]
  },
  {
   "cell_type": "markdown",
   "metadata": {},
   "source": [
    "the columns above were dropped beacuse they have no value to the purpose of this project.\n",
    "\n",
    "`rating` is the average IMDB/rotten tomatoes rating, while `Feedback` is the user assigned rating. (confusing names i know)"
   ]
  },
  {
   "cell_type": "code",
   "execution_count": null,
   "metadata": {},
   "outputs": [],
   "source": [
    "# dropping na\n",
    "df.dropna(inplace=True)\n",
    "df.head(2)"
   ]
  },
  {
   "cell_type": "code",
   "execution_count": null,
   "metadata": {},
   "outputs": [],
   "source": [
    "# unique anime name\n",
    "df['name'].nunique()"
   ]
  },
  {
   "cell_type": "markdown",
   "metadata": {},
   "source": [
    "There are over 7000 unique animes in the dataset. Considering that a user interface for inference will be built, we will limit the animes to the top 1000 based on the number of times they appear in the dataset."
   ]
  },
  {
   "cell_type": "code",
   "execution_count": null,
   "metadata": {},
   "outputs": [],
   "source": [
    "# selecting top 1000 animes by value counts\n",
    "top_1000 = df['name'].value_counts()[:1000].index\n",
    "df = df[np.isin(df['name'], top_1000)].reset_index(drop=True)"
   ]
  },
  {
   "cell_type": "code",
   "execution_count": null,
   "metadata": {},
   "outputs": [],
   "source": [
    "# function to clean the anime name\n",
    "def text_cleaning(text):\n",
    "    text = re.sub(r'&quot;', '', text)\n",
    "    text = re.sub(r'.hack//', '', text)\n",
    "    text = re.sub(r'&#039;', '', text)\n",
    "    text = re.sub(r'A&#039;s', '', text)\n",
    "    text = re.sub(r'I&#039;', 'I\\'', text)\n",
    "    text = re.sub(r'&amp;', 'and', text)\n",
    "    \n",
    "    return text"
   ]
  },
  {
   "cell_type": "code",
   "execution_count": null,
   "metadata": {},
   "outputs": [],
   "source": [
    "# cleaning name\n",
    "df['name'] = df['name'].apply(text_cleaning)"
   ]
  },
  {
   "cell_type": "markdown",
   "metadata": {},
   "source": [
    "The `members` feature denotes the 'number of fans' each anime has. The feature could be left as is, but for this project, it will be categorized based on popularity. This will allow users get recommendations based on how popular an anime is"
   ]
  },
  {
   "cell_type": "code",
   "execution_count": null,
   "metadata": {},
   "outputs": [],
   "source": [
    "# categories for audience\n",
    "df['Audience'] = pd.qcut(df['members'], q=[0, .33, .66, 1.], labels=[\"Niche\", \"Universal\", \"Spectacle\"])\n",
    "df[\"Audience\"] = df[\"Audience\"].astype(str)\n",
    "\n",
    "# dropping memebers\n",
    "df.drop('members', axis=1, inplace=True)"
   ]
  },
  {
   "cell_type": "code",
   "execution_count": null,
   "metadata": {},
   "outputs": [],
   "source": [
    "# saving the cleaned data -> will be used for training model\n",
    "df.to_csv(\"../data/processed/clean_data.csv\", index=False)"
   ]
  },
  {
   "cell_type": "markdown",
   "metadata": {},
   "source": [
    "### DataFrame 2\n",
    "\n",
    "This will be used for building a simple cosine similarity recommender based on User - Item rating"
   ]
  },
  {
   "cell_type": "code",
   "execution_count": null,
   "metadata": {},
   "outputs": [],
   "source": [
    "# merging df1 and plays\n",
    "df2 = pd.merge(left=df1, right=history, on=['User_ID', 'Anime_ID'], how='left')\n",
    "\n",
    "# dropping irrelevant columns\n",
    "df2.drop(['episodes', 'anime_ids', 'Anime_ID', 'rating'], axis=1, inplace=True)\n",
    "\n",
    "df2.dropna(inplace=True)"
   ]
  },
  {
   "cell_type": "code",
   "execution_count": null,
   "metadata": {},
   "outputs": [],
   "source": [
    "df2.head(2)"
   ]
  },
  {
   "cell_type": "code",
   "execution_count": null,
   "metadata": {},
   "outputs": [],
   "source": [
    "#cleaning anime names\n",
    "df2['name'] = df2['name'].apply(text_cleaning)\n",
    "\n",
    "# selecting relevant features\n",
    "df2 = df2[['User_ID', 'name', 'Feedback']]"
   ]
  },
  {
   "cell_type": "code",
   "execution_count": null,
   "metadata": {},
   "outputs": [],
   "source": [
    "df2.to_csv('../data/processed/cosine_data.csv', index=False)"
   ]
  }
 ],
 "metadata": {
  "kernelspec": {
   "display_name": "steam",
   "language": "python",
   "name": "python3"
  },
  "language_info": {
   "codemirror_mode": {
    "name": "ipython",
    "version": 3
   },
   "file_extension": ".py",
   "mimetype": "text/x-python",
   "name": "python",
   "nbconvert_exporter": "python",
   "pygments_lexer": "ipython3",
   "version": "3.11.5"
  }
 },
 "nbformat": 4,
 "nbformat_minor": 2
}
